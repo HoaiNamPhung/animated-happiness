{
 "cells": [
  {
   "cell_type": "code",
   "execution_count": 3,
   "metadata": {
    "collapsed": true
   },
   "outputs": [],
   "source": [
    "import json\n",
    "import random\n",
    "from collections import Counter\n",
    "import numpy as np\n",
    "import pandas as pd\n",
    "import matplotlib.pyplot as plt\n",
    "from scipy.stats import entropy\n",
    "from pycipher import ColTrans as ctc\n",
    "from pycipher import SimpleSubstitution as ssc\n",
    "from pycipher import Caesar as cc"
   ]
  },
  {
   "cell_type": "code",
   "execution_count": 42,
   "metadata": {},
   "outputs": [],
   "source": [
    "# Helper function to convert string to uppercase, no-spaced alphabetical equivilent.\n",
    "def as_alpha_upper(text):\n",
    "    import re\n",
    "    alpha_filter = filter(str.isalpha, text)\n",
    "    alpha_string = \"\".join(alpha_filter).upper()\n",
    "    alpha_string = re.sub(r'[^\\x00-\\x7f]',r'', alpha_string)\n",
    "    return alpha_string"
   ]
  },
  {
   "cell_type": "code",
   "execution_count": 45,
   "metadata": {},
   "outputs": [],
   "source": [
    "# Hyperparameters\n",
    "NUM_PTS = 1000;\n",
    "NUM_METHODS = 6;"
   ]
  },
  {
   "cell_type": "code",
   "execution_count": 46,
   "metadata": {
    "scrolled": false
   },
   "outputs": [],
   "source": [
    "# Creating the dataset of encryptable values and their keys from a json file.\n",
    "questions = []\n",
    "answers = []\n",
    "\n",
    "# We use SQuAD, a dataset of questions and answers: https://rajpurkar.github.io/SQuAD-explorer/\n",
    "with open('SQuAD_1.1_dataset.json', 'r') as json_file:\n",
    "    json_dataset = json.load(json_file)\n",
    "    \n",
    "for data in json_dataset['data']:\n",
    "    for paragraphs in data['paragraphs']:\n",
    "        for qas in paragraphs['qas']:\n",
    "            if (qas['answers']):\n",
    "                questions.append(qas['question'])\n",
    "                answers.append(qas['answers'][0]['text'])\n",
    "                \n",
    "# We use the questions as the plaintext to be encrypted.\n",
    "texts = np.random.choice(questions, size=NUM_PTS)\n",
    "\n",
    "# We use the answers as the keys for Columnar Transposition.\n",
    "ct_keys = np.random.choice(answers, size=NUM_PTS)\n",
    "\n",
    "# We use randomly shuffled alphabet as the keys for Simple Substitution.\n",
    "alphabet = \"abcdefghijklmnopqrstuvwxyz\"\n",
    "ss_keys = []\n",
    "for i in range(NUM_PTS):\n",
    "    ss_keys.append(''.join(random.sample(alphabet, len(alphabet))))\n",
    "    \n",
    "# We can use the numbers 0~25 as the keys for Caesar.\n",
    "c_keys = np.arange(26)"
   ]
  },
  {
   "cell_type": "code",
   "execution_count": 47,
   "metadata": {},
   "outputs": [],
   "source": [
    "# Encrypting.\n",
    "vary_key_ctc = []\n",
    "vary_text_ctc = []\n",
    "vary_key_ssc = []\n",
    "vary_text_ssc = []\n",
    "vary_key_cc = [0] * NUM_PTS\n",
    "vary_text_cc = []\n",
    "\n",
    "# Datasets for constant plaintext, varied key.\n",
    "set_text = texts[0]\n",
    "for key in ct_keys:\n",
    "    vary_key_ctc.append(ctc(key).encipher(set_text))\n",
    "for key in ss_keys:\n",
    "    vary_key_ssc.append(ssc(key).encipher(set_text))\n",
    "for i in range(len(c_keys)):\n",
    "    vary_key_cc[i] = (cc(c_keys[i]).encipher(set_text)) # Only first 26 have values; rest are 0-filled.\n",
    "    \n",
    "# Datasets for varied plaintext, constant key.\n",
    "ct = ctc(ct_keys[0])\n",
    "ss = ssc(ss_keys[0])\n",
    "c = cc(c_keys[13])\n",
    "for text in texts:\n",
    "    vary_text_ctc.append(ct.encipher(text))\n",
    "    vary_text_ssc.append(ss.encipher(text))\n",
    "    vary_text_cc.append(c.encipher(text))\n",
    "    \n",
    "# Create a 2D array containing all encrypted datasets.\n",
    "encrypted_datasets = np.column_stack((vary_key_ctc, vary_text_ctc, vary_key_ssc, vary_text_ssc, vary_key_cc, vary_text_cc))\n",
    "\n",
    "# Transpose the array axis to make each enciphering method its own row/line in the csv.\n",
    "encrypted_datasets = np.transpose(encrypted_datasets)"
   ]
  },
  {
   "cell_type": "code",
   "execution_count": 49,
   "metadata": {},
   "outputs": [],
   "source": [
    "# Export to .csv for external reuse\n",
    "np.savetxt(\"encrypted_datasets_\" + str(NUM_PTS) + \".csv\", encrypted_datasets, delimiter=\",\", fmt = '%s')"
   ]
  }
 ],
 "metadata": {
  "kernelspec": {
   "display_name": "Python3-TensorFlow2",
   "language": "python",
   "name": "python3-tensorflow2"
  },
  "language_info": {
   "codemirror_mode": {
    "name": "ipython",
    "version": 3
   },
   "file_extension": ".py",
   "mimetype": "text/x-python",
   "name": "python",
   "nbconvert_exporter": "python",
   "pygments_lexer": "ipython3",
   "version": "3.8.5"
  }
 },
 "nbformat": 4,
 "nbformat_minor": 4
}
